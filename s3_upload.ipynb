{
 "cells": [
  {
   "cell_type": "markdown",
   "metadata": {},
   "source": [
    "# Upload files to S3"
   ]
  },
  {
   "cell_type": "markdown",
   "metadata": {},
   "source": [
    "## Libraries"
   ]
  },
  {
   "cell_type": "code",
   "execution_count": 1,
   "metadata": {},
   "outputs": [],
   "source": [
    "import os\n",
    "import json\n",
    "import boto3\n",
    "import zipfile\n",
    "import tarfile"
   ]
  },
  {
   "cell_type": "markdown",
   "metadata": {},
   "source": [
    "## Credentials"
   ]
  },
  {
   "cell_type": "code",
   "execution_count": 2,
   "metadata": {},
   "outputs": [],
   "source": [
    "BUCKET = 'miba-projects-21-22-sites'\n",
    "FOLDER = 'upload'\n",
    "UPFOLDER = 'sites'\n",
    "with open('access.json') as file:\n",
    "    access_data = json.load(file)\n",
    "session = boto3.session.Session()\n",
    "s3 = session.client(\n",
    "    service_name='s3',\n",
    "    aws_access_key_id=access_data['aws_access_key_id'],\n",
    "    aws_secret_access_key=access_data['aws_secret_access_key'],\n",
    "    endpoint_url='http://storage.yandexcloud.net'\n",
    ")"
   ]
  },
  {
   "cell_type": "markdown",
   "metadata": {},
   "source": [
    "## Utils"
   ]
  },
  {
   "cell_type": "code",
   "execution_count": 5,
   "metadata": {},
   "outputs": [],
   "source": [
    "def get_loaded_objects(s3, bucket, upfolder, verbose=False):\n",
    "    s3_result =  s3.list_objects_v2(Bucket=bucket, Prefix=upfolder)\n",
    "    loaded = []\n",
    "    try:\n",
    "        for key in s3_result['Contents']:\n",
    "            loaded.append(key['Key'])\n",
    "        if verbose: print(f'loaded: {len(loaded)}')\n",
    "        while s3_result['IsTruncated']:\n",
    "            continuation_key = s3_result['NextContinuationToken']\n",
    "            s3_result = s3.list_objects_v2(\n",
    "                Bucket=AVSLS_BUCKET, \n",
    "                Prefix=UPFOLDER, \n",
    "                ContinuationToken=continuation_key\n",
    "            )\n",
    "            for key in s3_result['Contents']:\n",
    "                loaded.append(key['Key'])\n",
    "            if verbose: print(f'loaded: {len(loaded)}')\n",
    "    except:\n",
    "        print('no loaded objects')\n",
    "    return loaded\n",
    "\n",
    "def upload_folder_to_s3(s3, bucket, input_dir, s3_path, verbose=False):\n",
    "        print('local:', input_dir)\n",
    "        os.system('ls -ltR ' + input_dir)\n",
    "        print('s3 destination:', s3_path)\n",
    "        loaded = [x.replace(s3_path, '') \n",
    "                  for x in get_loaded_objects(s3, bucket, s3_path, verbose)]\n",
    "        print('total loaded:', len(loaded))\n",
    "        try:\n",
    "            for path, subdirs, files in os.walk(input_dir):\n",
    "                for file in files:\n",
    "                    dest_path = path.replace(input_dir, '')\n",
    "                    s3file_path = dest_path + '/' + file\n",
    "                    if s3file_path in loaded:\n",
    "                        if verbose: print(s3file_path, 'exists')\n",
    "                        continue\n",
    "                    s3file = os.path.normpath(s3_path + s3file_path)\n",
    "                    local_file = os.path.join(path, file)\n",
    "                    if verbose: print(local_file, '->', s3file, end='')\n",
    "                    s3.upload_file(local_file, bucket, s3file)\n",
    "                    if verbose: print(' done')      \n",
    "        except Exception as e:\n",
    "            print('failed:',  path, subdirs, files)\n",
    "            print(e)\n",
    "            raise e"
   ]
  },
  {
   "cell_type": "markdown",
   "metadata": {},
   "source": [
    "## Run upload"
   ]
  },
  {
   "cell_type": "code",
   "execution_count": 6,
   "metadata": {},
   "outputs": [
    {
     "name": "stdout",
     "output_type": "stream",
     "text": [
      "local: upload\n",
      "s3 destination: sites\n",
      "no loaded objects\n",
      "total loaded: 0\n",
      "CPU times: user 422 ms, sys: 403 ms, total: 825 ms\n",
      "Wall time: 1.33 s\n"
     ]
    }
   ],
   "source": [
    "%%time\n",
    "upload_folder_to_s3(s3, BUCKET, FOLDER, UPFOLDER, verbose=False)"
   ]
  },
  {
   "cell_type": "code",
   "execution_count": null,
   "metadata": {},
   "outputs": [],
   "source": []
  }
 ],
 "metadata": {
  "kernelspec": {
   "display_name": "Python 3",
   "language": "python",
   "name": "python3"
  },
  "language_info": {
   "codemirror_mode": {
    "name": "ipython",
    "version": 3
   },
   "file_extension": ".py",
   "mimetype": "text/x-python",
   "name": "python",
   "nbconvert_exporter": "python",
   "pygments_lexer": "ipython3",
   "version": "3.8.6"
  }
 },
 "nbformat": 4,
 "nbformat_minor": 4
}
